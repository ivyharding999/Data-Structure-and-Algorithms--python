{
 "cells": [
  {
   "cell_type": "markdown",
   "metadata": {},
   "source": [
    "### 保存整型：int=1,2,3,4,5-------怎么把他们保存起来？list列表本身就是一个高级数据结构了！\n",
    "### 引入内存的概念     一个字节是8位的，一个字节对应一个地址索引"
   ]
  },
  {
   "cell_type": "markdown",
   "metadata": {},
   "source": [
    "#### int32对应4个字节    int a=1-----转换成二进制0000 0001 在计算机内部其实占据了4个存储单元，一个存储单元对应一个字节。    char一个char对应一个字节。\n",
    "## 顺序表：按照顺序存储的方式\n",
    "##### 元素外置的顺序表"
   ]
  },
  {
   "cell_type": "code",
   "execution_count": null,
   "metadata": {},
   "outputs": [],
   "source": [
    "## 顺序表中存储： 表头（多少个数据，存储了多少个数据）和数据区\n",
    "## 顺序表的两种实现方式-----1.一体式结构  2.分离式结构\n"
   ]
  }
 ],
 "metadata": {
  "kernelspec": {
   "display_name": "Python 3",
   "language": "python",
   "name": "python3"
  },
  "language_info": {
   "codemirror_mode": {
    "name": "ipython",
    "version": 3
   },
   "file_extension": ".py",
   "mimetype": "text/x-python",
   "name": "python",
   "nbconvert_exporter": "python",
   "pygments_lexer": "ipython3",
   "version": "3.5.4"
  }
 },
 "nbformat": 4,
 "nbformat_minor": 2
}
