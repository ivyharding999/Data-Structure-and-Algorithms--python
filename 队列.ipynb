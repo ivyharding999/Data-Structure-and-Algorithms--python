{
 "cells": [
  {
   "cell_type": "code",
   "execution_count": 10,
   "metadata": {},
   "outputs": [],
   "source": [
    "class Queue(object):\n",
    "    \"\"\"队列\"\"\"\n",
    "    def __init__(self):\n",
    "        self.__list = []   #保存数列（顺序表）\n",
    "    \n",
    "    def enqueue(self,item):\n",
    "        \"\"\"往队列中添加一个item元素\"\"\"\n",
    "        self.__list.append(item)   # 在尾部添加  \n",
    "#         self.__list.insert(0,item)   # 在头部添加\n",
    "    \n",
    "    def dequeue(self):\n",
    "        \"\"\"从队列头部删除一个元素\"\"\"\n",
    "        return self.__list.pop(0)  # 从队列头部删除一个元素\n",
    "#         return self.__list.pop()    # 从队列尾部删除一个元素\n",
    "    \n",
    "    def is_empty(self):\n",
    "        \"\"\"判断队列是否为空\"\"\"\n",
    "        return self.__list == []\n",
    "    \n",
    "    def size(self):\n",
    "        \"\"\"判断队列长度或者大小\"\"\"\n",
    "        return len(self.__list)\n",
    "        "
   ]
  },
  {
   "cell_type": "code",
   "execution_count": 11,
   "metadata": {},
   "outputs": [
    {
     "name": "stdout",
     "output_type": "stream",
     "text": [
      "4\n",
      "1\n",
      "2\n",
      "3\n"
     ]
    }
   ],
   "source": [
    "if __name__ == \"__main__\":\n",
    "    q = Queue()\n",
    "    q.enqueue(1)\n",
    "    q.enqueue(2)\n",
    "    q.enqueue(3)\n",
    "    q.enqueue(4)\n",
    "    print(q.size())\n",
    "    print(q.dequeue())\n",
    "    print(q.dequeue())\n",
    "    print(q.dequeue())"
   ]
  },
  {
   "cell_type": "markdown",
   "metadata": {},
   "source": [
    "## 双端队列"
   ]
  },
  {
   "cell_type": "code",
   "execution_count": 12,
   "metadata": {},
   "outputs": [],
   "source": [
    "class Deque(object):\n",
    "    \"\"\"双端队列\"\"\"\n",
    "    def __init__(self):\n",
    "        self.__list = []\n",
    "    \n",
    "    def add_front(self,item):\n",
    "        \"\"\"从队头加入一个item元素\"\"\"\n",
    "        self.__list.insert(0,item)\n",
    "    \n",
    "    def add_rear(self,item):\n",
    "        \"\"\" 从队尾加入一个item元素 \"\"\"\n",
    "        self.__list.append(item)\n",
    "    \n",
    "    def pop_front(self):\n",
    "        \"\"\" 从队头取出一个元素 \"\"\"\n",
    "        return self.__list.pop(0)  # 从头部 取\n",
    "    \n",
    "    def pop_rear(self):\n",
    "        \"\"\" 从队尾删除一个元素 \"\"\"\n",
    "        return self.__list.pop()  # 从尾部取\n",
    "        \n",
    "    \n",
    "    \n",
    "    def is_empty(self): \n",
    "        \"\"\"判断双端队列是否为空\"\"\"\n",
    "        return self.__list == []\n",
    "    \n",
    "    def size(self):\n",
    "        \"\"\"返回队列的大小\"\"\"\n",
    "        return len(self.__list)"
   ]
  },
  {
   "cell_type": "code",
   "execution_count": 14,
   "metadata": {},
   "outputs": [
    {
     "name": "stdout",
     "output_type": "stream",
     "text": [
      "4\n",
      "4\n",
      "3\n",
      "1\n"
     ]
    }
   ],
   "source": [
    "if __name__ == \"__main__\":\n",
    "    q = Deque()\n",
    "    q.add_front(1)\n",
    "    q.add_front(2)\n",
    "    q.add_rear(3)\n",
    "    q. add_rear(4)\n",
    "    print(q.size())\n",
    "    print(q.pop_rear())\n",
    "    print(q.pop_rear())\n",
    "    print(q.pop_rear())"
   ]
  },
  {
   "cell_type": "code",
   "execution_count": null,
   "metadata": {},
   "outputs": [],
   "source": []
  }
 ],
 "metadata": {
  "kernelspec": {
   "display_name": "Python 3",
   "language": "python",
   "name": "python3"
  },
  "language_info": {
   "codemirror_mode": {
    "name": "ipython",
    "version": 3
   },
   "file_extension": ".py",
   "mimetype": "text/x-python",
   "name": "python",
   "nbconvert_exporter": "python",
   "pygments_lexer": "ipython3",
   "version": "3.5.4"
  }
 },
 "nbformat": 4,
 "nbformat_minor": 2
}
