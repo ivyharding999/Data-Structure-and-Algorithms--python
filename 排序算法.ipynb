{
 "cells": [
  {
   "cell_type": "markdown",
   "metadata": {},
   "source": [
    "## 冒泡排序"
   ]
  },
  {
   "cell_type": "code",
   "execution_count": 1,
   "metadata": {},
   "outputs": [],
   "source": [
    "def bubble_sort(alist):\n",
    "    ### 作用在顺序表上，只要交换顺序；作用在链表上，需要交换节点\n",
    "    ## 这里作用在顺序表上\n",
    "    n = len(alist)\n",
    "    for j in range(n-1):\n",
    "        # 班长第几次走\n",
    "        count = 0\n",
    "        for i in range (0,n-1-j):\n",
    "            ### 班长从头走到尾\n",
    "            if alist[i] > alist[i+1]:\n",
    "                alist[i],alist[i+1] = alist[i+1],alist[i]\n",
    "                count +=1\n",
    "        if count == 0:\n",
    "            ### 处理本身有序的情况\n",
    "            return "
   ]
  },
  {
   "cell_type": "code",
   "execution_count": 3,
   "metadata": {},
   "outputs": [
    {
     "name": "stdout",
     "output_type": "stream",
     "text": [
      "[17, 20, 26, 31, 44, 54, 55, 77, 93]\n"
     ]
    }
   ],
   "source": [
    "if __name__ == \"__main__\":\n",
    "    li = [54,26,93,17,77,31,44,55,20]\n",
    "    bubble_sort(li)\n",
    "    print(li)"
   ]
  },
  {
   "cell_type": "markdown",
   "metadata": {},
   "source": [
    "## 选择排序"
   ]
  },
  {
   "cell_type": "code",
   "execution_count": null,
   "metadata": {},
   "outputs": [],
   "source": [
    "### 分两部分，操作无序的部分\n",
    "li = [54,26,93,17,77,31,44,55,20]\n",
    "# 找最小的17,将最小值与第一个位置交换\n",
    "li = [17,26,93,54,77,31,44,55,20]\n",
    "# 对未排序的，找次最小的20,将次小值与第2个位置交换\n",
    "li = [17,20,93,54,77,31,44,55,26]\n",
    "# 对未排序的，找次次最小的26,将次次小值与第3个位置交换\n",
    "li = [17,20,26,54,77,31,44,55,93]\n",
    "###以此类推"
   ]
  },
  {
   "cell_type": "code",
   "execution_count": null,
   "metadata": {},
   "outputs": [],
   "source": [
    "li = [54,226,93,17,77,31,44,55,20]\n",
    "##min记录最小值的位置\n",
    "min = 3\n",
    "li(0),li(3) = li(3),li(0)\n",
    "\n",
    "li = [17,      226,93,54,77,31,44,55,20]\n",
    "min = 8\n",
    "li(1),li(8) = li(8),li(1)\n",
    "\n",
    "li = [17,20,      93,54,77,31,44,55,226]\n",
    "min = 6\n",
    "li(3),li(6) = li(6),li(3)\n"
   ]
  },
  {
   "cell_type": "code",
   "execution_count": 8,
   "metadata": {},
   "outputs": [],
   "source": [
    "def select_sort(alist):\n",
    "    \"\"\"选择排序\"\"\"\n",
    "    n = len(alist)\n",
    "    for j in range(n-1):\n",
    "        ### j从0 - n-2\n",
    "        min_index = j\n",
    "        for i in range(j+1,n):\n",
    "            if alist[min_index] > alist[i]:\n",
    "                min_index = i\n",
    "        alist[j],alist[min_index] = alist[min_index],alist[j]       "
   ]
  },
  {
   "cell_type": "code",
   "execution_count": 9,
   "metadata": {},
   "outputs": [
    {
     "name": "stdout",
     "output_type": "stream",
     "text": [
      "[17, 20, 26, 31, 44, 54, 55, 77, 93]\n"
     ]
    }
   ],
   "source": [
    "if __name__ == \"__main__\":\n",
    "    li = [54,26,93,17,77,31,44,55,20]\n",
    "    select_sort(li)\n",
    "    print(li)"
   ]
  },
  {
   "cell_type": "markdown",
   "metadata": {},
   "source": [
    "## 插入排序"
   ]
  },
  {
   "cell_type": "code",
   "execution_count": null,
   "metadata": {},
   "outputs": [],
   "source": [
    "### 分两部分，操作有序的部分\n",
    "li = [54,       226,93,17,77,31,44,55,20]\n",
    "## 将226拿到前面与54比较，排好顺序\n",
    "li = [54,226,       93,17,77,31,44,55,20]\n",
    "## 将93拿到前面与54，226比较，排好顺序，先看93与226---换顺序，54与93不用换顺序\n",
    "li = [54,93,226,       17,77,31,44,55,20]\n",
    "### 往后依次排序"
   ]
  },
  {
   "cell_type": "code",
   "execution_count": 11,
   "metadata": {},
   "outputs": [],
   "source": [
    "def insert_sort(alist):\n",
    "    n = len(alist)\n",
    "    \n",
    "    for i in range(1,n):\n",
    "        while i>0:\n",
    "            if alist[i] < alist[i-1]:\n",
    "                alist[i],alist[i-1] =  alist[i-1],alist[i]\n",
    "                i -=1\n",
    "            else:\n",
    "                break    "
   ]
  },
  {
   "cell_type": "code",
   "execution_count": 12,
   "metadata": {},
   "outputs": [
    {
     "name": "stdout",
     "output_type": "stream",
     "text": [
      "[17, 20, 26, 31, 44, 54, 55, 77, 93]\n"
     ]
    }
   ],
   "source": [
    "if __name__ == \"__main__\":\n",
    "    li = [54,26,93,17,77,31,44,55,20]\n",
    "    insert_sort(li)\n",
    "    print(li)"
   ]
  },
  {
   "cell_type": "markdown",
   "metadata": {},
   "source": [
    "## 希尔排序"
   ]
  },
  {
   "cell_type": "code",
   "execution_count": null,
   "metadata": {},
   "outputs": [],
   "source": [
    "### 特殊的插入排序\n",
    "每次的gap间隔不同，进行排序\n"
   ]
  },
  {
   "cell_type": "markdown",
   "metadata": {},
   "source": [
    "## 归并算法"
   ]
  },
  {
   "cell_type": "code",
   "execution_count": null,
   "metadata": {},
   "outputs": [],
   "source": [
    "两两分开，分到不能再分\n",
    "两两合并，合并到不能再合并（合并原则，2个游标，始终使小的在左边，大的在右边）"
   ]
  }
 ],
 "metadata": {
  "kernelspec": {
   "display_name": "Python 3",
   "language": "python",
   "name": "python3"
  },
  "language_info": {
   "codemirror_mode": {
    "name": "ipython",
    "version": 3
   },
   "file_extension": ".py",
   "mimetype": "text/x-python",
   "name": "python",
   "nbconvert_exporter": "python",
   "pygments_lexer": "ipython3",
   "version": "3.5.4"
  }
 },
 "nbformat": 4,
 "nbformat_minor": 2
}
