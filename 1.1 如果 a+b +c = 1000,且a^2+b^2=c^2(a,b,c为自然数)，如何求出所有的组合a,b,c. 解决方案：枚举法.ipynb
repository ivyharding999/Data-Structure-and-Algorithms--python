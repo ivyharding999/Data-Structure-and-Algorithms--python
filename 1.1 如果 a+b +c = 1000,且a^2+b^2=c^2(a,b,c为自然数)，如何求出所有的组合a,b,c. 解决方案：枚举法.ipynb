{
 "cells": [
  {
   "cell_type": "code",
   "execution_count": 1,
   "metadata": {},
   "outputs": [],
   "source": [
    "import time"
   ]
  },
  {
   "cell_type": "code",
   "execution_count": null,
   "metadata": {},
   "outputs": [],
   "source": [
    "# https://www.bilibili.com/video/av21540971/?p=10\n"
   ]
  },
  {
   "cell_type": "markdown",
   "metadata": {},
   "source": [
    "## 第一次尝试\n",
    "### 计算步骤多\n",
    "###### T = 1000 X1000X1000 X2 基本步骤的数量     时间复杂度T(n) = (n^3)*2"
   ]
  },
  {
   "cell_type": "code",
   "execution_count": 2,
   "metadata": {},
   "outputs": [
    {
     "name": "stdout",
     "output_type": "stream",
     "text": [
      "a,b,c:0,500,500,\n",
      "a,b,c:200,375,425,\n",
      "a,b,c:375,200,425,\n",
      "a,b,c:500,0,500,\n",
      "time:148\n",
      "finished\n"
     ]
    }
   ],
   "source": [
    "start_time  = time.time()\n",
    "for a in range(0,1001):\n",
    "    for b in range(0,1001):\n",
    "        for c in range(0,1001):\n",
    "            if a+b+c==1000 and a**2+b**2==c**2:\n",
    "                print(\"a,b,c:%d,%d,%d\" %(a,b,c))\n",
    "end_time = time.time()\n",
    "print('time:%d'%(end_time-start_time))\n",
    "print('finished')"
   ]
  },
  {
   "cell_type": "markdown",
   "metadata": {},
   "source": [
    "## 第二次尝试\n",
    "### 计算步骤少\n",
    "#### T =1000X1000X2    时间复杂度：T(n)=(n^2)*3"
   ]
  },
  {
   "cell_type": "code",
   "execution_count": 3,
   "metadata": {},
   "outputs": [
    {
     "name": "stdout",
     "output_type": "stream",
     "text": [
      "a,b,c:0,500,500\n",
      "a,b,c:200,375,425\n",
      "a,b,c:375,200,425\n",
      "a,b,c:500,0,500\n",
      "time:1\n",
      "finished\n"
     ]
    }
   ],
   "source": [
    "start_time  = time.time()\n",
    "for a in range(0,1001):\n",
    "    for b in range(0,1001):\n",
    "        c=1000-a-b\n",
    "        if a**2+b**2==c**2:\n",
    "            print(\"a,b,c:%d,%d,%d\" %(a,b,c))\n",
    "end_time = time.time()\n",
    "print('time:%d'%(end_time-start_time))\n",
    "print('finished')"
   ]
  },
  {
   "cell_type": "markdown",
   "metadata": {},
   "source": [
    " ## 如何评价其算法执行效率"
   ]
  },
  {
   "cell_type": "markdown",
   "metadata": {},
   "source": [
    "### 单看其执行时间其实是不合理的：主要原因----运行环境不同（你的设备的好与坏）"
   ]
  },
  {
   "cell_type": "markdown",
   "metadata": {},
   "source": [
    "### 如何解决呢：看其时间复杂度！\n",
    "### 每台机器执行的总时间不同，但是其执行的基本运算数量是大题相同的\n",
    "## 时间复杂度：就是执行了多少个计算量"
   ]
  },
  {
   "cell_type": "code",
   "execution_count": 5,
   "metadata": {},
   "outputs": [],
   "source": [
    "### 从上面的例子可以看出，其时间复杂度降低了一个数量级，一个n的3次方级别，一个n的2次方级别"
   ]
  },
  {
   "cell_type": "code",
   "execution_count": 7,
   "metadata": {},
   "outputs": [
    {
     "data": {
      "text/plain": [
       "array([0, 1, 3, 4, 5, 6, 9])"
      ]
     },
     "execution_count": 7,
     "metadata": {},
     "output_type": "execute_result"
    }
   ],
   "source": [
    "import numpy as np\n",
    "np.sort([3,5,1,6,4,9,0])"
   ]
  },
  {
   "cell_type": "markdown",
   "metadata": {},
   "source": [
    "## python内置类型性能的分析\n",
    "#### 函数基本步骤不能算一个基础运算（你需要去查看函数的源码）"
   ]
  },
  {
   "cell_type": "code",
   "execution_count": null,
   "metadata": {},
   "outputs": [],
   "source": [
    "li = []\n",
    "### 给列表添加新元素\n",
    "li.append()\n",
    "li.assert()"
   ]
  },
  {
   "cell_type": "markdown",
   "metadata": {},
   "source": [
    "## timeit模块  用来测试内置  python代码的执行速度\n",
    "### class timeit.Timer(stmt='pass',setup='pass',time=<timer function> )"
   ]
  },
  {
   "cell_type": "code",
   "execution_count": 8,
   "metadata": {},
   "outputs": [],
   "source": [
    "class timeit.Timer(stmt='pass',setup='pass',time=<timer function>)\n",
    "## Timer是测量小代码执行速度的类\n",
    "## stmt 参数事要测试的代码语句（statment)\n",
    "## setup参数是运行diamagnetic时需要的设置\n",
    "## timer 参数是一个定时器函数，与平台有关\n",
    "timeit.Timer.timeit(number=1000000000)\n",
    "## 测试下list函数里"
   ]
  },
  {
   "cell_type": "markdown",
   "metadata": {},
   "source": [
    "###测试下list内置函数下时间复杂度\n",
    "###  O(1) :   indexx[ ],   append(),   pop()\n",
    "### O(n): pop(i), insert(),  iteration(), contains() , reverse,concatenate()  \n",
    "### O(k): get slice(x:y) , \n",
    "### O(nlogn): sort,"
   ]
  },
  {
   "cell_type": "code",
   "execution_count": 16,
   "metadata": {},
   "outputs": [
    {
     "name": "stdout",
     "output_type": "stream",
     "text": [
      "append: 0.8844020645192359\n",
      "+: 146.44533361731737\n",
      " i for i in range: 0.37052499428682495\n",
      "list(range()): 0.21336701609106967\n",
      "extend(): 1.6827045464524417\n",
      "insert(): 20.645480458850216\n"
     ]
    }
   ],
   "source": [
    "from timeit import Timer\n",
    "li1 = [1,2,3]\n",
    "li2 = [3,4,5]\n",
    "### 生成列表的构造方式\n",
    "# li = li1+li2    # 方式1 ：通过加法\n",
    "# li = [i for i in range(10000)]  ## 方式2： 列表生成器\n",
    "# li = list(range(10000))   # 方式3：可迭代对象直接生成列表\n",
    "# 方式4：一个一个添加\n",
    "# for i in range(10000):\n",
    "#     li.append(i)\n",
    "    \n",
    "def test1():\n",
    "    li = []\n",
    "    for i in range(10000):\n",
    "        li.append(i)   ### 往列表的尾部添加\n",
    "        \n",
    "def test2():\n",
    "    li = []\n",
    "    for i in range(10000):\n",
    "#         li  += [i]\n",
    "        li  =  li + [i]   # 与上式操作不等价\n",
    "    \n",
    "def test3():\n",
    "    li = [i for i in range(10000)]\n",
    "    \n",
    "def test4():\n",
    "    li = list(range(10000))\n",
    "    \n",
    "def test5():\n",
    "    li = []\n",
    "    for i in range(10000):\n",
    "        li.extend([i])\n",
    "\n",
    "def test6():\n",
    "    li = []\n",
    "    for i in range(10000):\n",
    "        li.insert(0,i)  ### 往列表的头部添加\n",
    "    \n",
    "timer1 = Timer(stmt='test1()',setup='from __main__ import test1')\n",
    "print('append:',timer1.timeit(number=1000))\n",
    "\n",
    "timer2 = Timer(stmt='test2()',setup='from __main__ import test2')\n",
    "print('+:',timer2.timeit(number=1000))\n",
    "\n",
    "timer3 = Timer(stmt='test3()',setup='from __main__ import test3')\n",
    "print(' i for i in range:',timer3.timeit(number=1000))\n",
    "\n",
    "timer4 = Timer(stmt='test4()',setup='from __main__ import test4')\n",
    "print('list(range()):',timer4.timeit(number=1000))\n",
    "\n",
    "timer5 = Timer(stmt='test5()',setup='from __main__ import test5')\n",
    "print('extend():',timer5.timeit(number=1000))\n",
    "\n",
    "timer6 = Timer(stmt='test6()',setup='from __main__ import test6')\n",
    "print('insert():',timer6.timeit(number=1000))\n"
   ]
  },
  {
   "cell_type": "markdown",
   "metadata": {},
   "source": [
    "## 放尾部操作运算速度快于 放头部的操作"
   ]
  },
  {
   "cell_type": "markdown",
   "metadata": {},
   "source": [
    "## 数据结构:一组数据的保存方式\n",
    "### 存储一个班级内学生的信息\n",
    "### 包含 name,age,hometown"
   ]
  },
  {
   "cell_type": "markdown",
   "metadata": {},
   "source": [
    "#### 方式1：采用列表存储"
   ]
  },
  {
   "cell_type": "code",
   "execution_count": null,
   "metadata": {},
   "outputs": [],
   "source": [
    "## 里面通过元组的方式\n",
    "[\n",
    " ('zhangsan',24,'beijing'),\n",
    " ('zhangsan',24,'beijing'),\n",
    " ('zhangsan',24,'beijing'), \n",
    " ('zhangsan',24,'beijing'),\n",
    "\n",
    "]\n",
    "\n",
    "#######################################\n",
    "# 查找一个班级的某个学生的信息：\n",
    "for stu in stus:\n",
    "    if stu(0)=='zhangsan':\n",
    "        print(\"find!\")\n",
    "\n",
    "# 时间复杂度：O(n)\n",
    "\n",
    "\n",
    "##################################\n",
    "\n",
    "\n",
    "\n",
    "## 里面通过字典的方式\n",
    "[\n",
    " {'name':'zhangsan','age':32,'hometown':'shanghai'},\n",
    " {'name':'zhangsan','age':32,'hometown':'shanghai'},\n",
    "    \n",
    "    \n",
    "]\n",
    "# 这个时间复杂度：O(n)\n"
   ]
  },
  {
   "cell_type": "markdown",
   "metadata": {},
   "source": [
    "#### 方式2：采用字典存储"
   ]
  },
  {
   "cell_type": "code",
   "execution_count": null,
   "metadata": {},
   "outputs": [],
   "source": [
    "{\n",
    "    'zhangsan':{'age':23,'hometown':'beijing'},\n",
    "    'zhangsan':{'age':23,'hometown':'beijing'},\n",
    "    \n",
    "    \n",
    "}\n",
    "\n",
    "#######################################\n",
    "# 查找一个班级的某个学生的信息：\n",
    "stus['zhangsan']\n",
    "\n",
    "\n",
    "# 时间复杂度：O(1)\n",
    "\n",
    "\n",
    "##################################"
   ]
  },
  {
   "cell_type": "markdown",
   "metadata": {},
   "source": [
    "### 程序=算法+数据结构"
   ]
  },
  {
   "cell_type": "code",
   "execution_count": null,
   "metadata": {},
   "outputs": [],
   "source": []
  }
 ],
 "metadata": {
  "kernelspec": {
   "display_name": "Python 3",
   "language": "python",
   "name": "python3"
  },
  "language_info": {
   "codemirror_mode": {
    "name": "ipython",
    "version": 3
   },
   "file_extension": ".py",
   "mimetype": "text/x-python",
   "name": "python",
   "nbconvert_exporter": "python",
   "pygments_lexer": "ipython3",
   "version": "3.5.4"
  }
 },
 "nbformat": 4,
 "nbformat_minor": 2
}
